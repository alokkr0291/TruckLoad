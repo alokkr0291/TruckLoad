{
 "cells": [
  {
   "cell_type": "code",
   "execution_count": 1,
   "id": "7776dd82-11b0-4c71-b9fb-8b763d6aa127",
   "metadata": {},
   "outputs": [],
   "source": [
    "import tensorflow as tf\n",
    "import os\n",
    "import json\n",
    "import numpy as np"
   ]
  },
  {
   "cell_type": "code",
   "execution_count": 13,
   "id": "141aedaa-28df-45d7-be7f-5cfdf9eaab41",
   "metadata": {},
   "outputs": [
    {
     "name": "stdout",
     "output_type": "stream",
     "text": [
      "{'SKU_4L': 328, 'SKU_1L': 297, 'SKU_10L_DTS': 120, 'SKU_10L_NDTS': 0, 'SKU_20L_DTS': 500, 'SKU_20L_NDTS': 200}\n",
      "{'SKU_4L': 896, 'SKU_1L': 792, 'SKU_10L_DTS': 0, 'SKU_10L_NDTS': 0, 'SKU_20L_DTS': 0, 'SKU_20L_NDTS': 0}\n",
      "{'SKU_4L': 0, 'SKU_1L': 0, 'SKU_10L_DTS': 0, 'SKU_10L_NDTS': 0, 'SKU_20L_DTS': 198, 'SKU_20L_NDTS': 99}\n"
     ]
    }
   ],
   "source": [
    "for i in range (0,3):\n",
    "    print(total_used_sku_s[i])"
   ]
  },
  {
   "cell_type": "code",
   "execution_count": 14,
   "id": "a6d47580-79cd-4854-bf00-bcdc91a7bcc2",
   "metadata": {},
   "outputs": [
    {
     "name": "stdout",
     "output_type": "stream",
     "text": [
      "328\n",
      "896\n",
      "0\n"
     ]
    }
   ],
   "source": [
    "for i in range (0,3):\n",
    "    print(total_used_sku_s[i]['SKU_4L'])"
   ]
  },
  {
   "cell_type": "code",
   "execution_count": 6,
   "id": "079c5196-5699-4ec8-8bb4-d66d98414bfb",
   "metadata": {},
   "outputs": [
    {
     "name": "stdout",
     "output_type": "stream",
     "text": [
      "{'skuName': 'SKU_4L', 'skuLocalPosition': {'x': 0.0, 'y': 0.0, 'z': 0.0}, 'skuCoordinates': {'x': 0.0, 'y': 0.0, 'z': 0.0}}\n",
      "{'skuName': 'SKU_4L', 'skuLocalPosition': {'x': 0.0, 'y': 0.0, 'z': 3.8}, 'skuCoordinates': {'x': 0.0, 'y': 0.0, 'z': 1.0}}\n",
      "{'skuName': 'SKU_4L', 'skuLocalPosition': {'x': 0.0, 'y': 0.0, 'z': 7.6}, 'skuCoordinates': {'x': 0.0, 'y': 0.0, 'z': 2.0}}\n"
     ]
    }
   ],
   "source": [
    "for i in range(0,3):\n",
    "    print(skus_info_data[i])"
   ]
  },
  {
   "cell_type": "code",
   "execution_count": 10,
   "id": "5e57a8a1-61c2-4875-82e7-7030bc54192c",
   "metadata": {},
   "outputs": [
    {
     "name": "stdout",
     "output_type": "stream",
     "text": [
      "SKU_4L\n",
      "SKU_4L\n",
      "SKU_4L\n"
     ]
    }
   ],
   "source": [
    "for i in range(0,3):\n",
    "    print(skus_info_data[i]['skuName'])"
   ]
  },
  {
   "cell_type": "code",
   "execution_count": 3,
   "id": "4fb99db3-2f5f-4d48-8485-1c92ca4bc347",
   "metadata": {},
   "outputs": [
    {
     "name": "stdout",
     "output_type": "stream",
     "text": [
      "Truck 1: Length = 70, Width = 33, Height = 20\n",
      "Truck 2: Length = 80, Width = 32, Height = 20\n",
      "Truck 3: Length = 70, Width = 30, Height = 20\n"
     ]
    }
   ],
   "source": [
    "for i in range(0, 3):\n",
    "    truck_dimension = truck_dimensions[i]\n",
    "    length = truck_dimension['Length']\n",
    "    width = truck_dimension['Width']\n",
    "    height = truck_dimension['Height']\n",
    "    print(f\"Truck {i + 1}: Length = {length}, Width = {width}, Height = {height}\")"
   ]
  },
  {
   "cell_type": "code",
   "execution_count": 4,
   "id": "6ddb83ff-b441-4bb5-a431-7f15ec5c2530",
   "metadata": {},
   "outputs": [
    {
     "name": "stdout",
     "output_type": "stream",
     "text": [
      "{'SKU_4L': 328, 'SKU_1L': 297, 'SKU_10L_DTS': 120, 'SKU_10L_NDTS': 0, 'SKU_20L_DTS': 500, 'SKU_20L_NDTS': 200}\n"
     ]
    }
   ],
   "source": [
    "\n",
    "print(total_used_sku_s[0])"
   ]
  },
  {
   "cell_type": "code",
   "execution_count": 5,
   "id": "4e0e384e-47fa-460c-bf98-85161e979f7f",
   "metadata": {},
   "outputs": [
    {
     "data": {
      "text/plain": [
       "{'skuName': 'SKU_4L',\n",
       " 'skuLocalPosition': {'x': 0.0, 'y': 0.0, 'z': 0.0},\n",
       " 'skuCoordinates': {'x': 0.0, 'y': 0.0, 'z': 0.0}}"
      ]
     },
     "execution_count": 5,
     "metadata": {},
     "output_type": "execute_result"
    }
   ],
   "source": [
    "skus_info_data = skus_info_datas[0]\n",
    "skus_info_data[0]\n",
    "#skuName = skus_info_data['skuName']"
   ]
  },
  {
   "cell_type": "code",
   "execution_count": 6,
   "id": "4e02f19f-8b5a-4a15-88ed-2e01fa499ae6",
   "metadata": {},
   "outputs": [
    {
     "data": {
      "text/plain": [
       "0.0"
      ]
     },
     "execution_count": 6,
     "metadata": {},
     "output_type": "execute_result"
    }
   ],
   "source": [
    "skus_info_data[0]['skuName']\n",
    "skus_info_data[0]['skuLocalPosition']['x']\n"
   ]
  },
  {
   "cell_type": "code",
   "execution_count": 7,
   "id": "cbdfd0c7-01bf-4d38-94d0-38bbf1c4cab1",
   "metadata": {},
   "outputs": [
    {
     "name": "stdout",
     "output_type": "stream",
     "text": [
      "SKU_4L\n",
      "{'x': 0.0, 'y': 0.0, 'z': 0.0}\n",
      "SKU_4L\n",
      "{'x': 0.0, 'y': 0.0, 'z': 3.8}\n",
      "SKU_4L\n",
      "{'x': 0.0, 'y': 0.0, 'z': 7.6}\n"
     ]
    }
   ],
   "source": [
    "for i in range(0, 3):\n",
    "    print(skus_info_data[i]['skuName'])\n",
    "    print(skus_info_data[i]['skuLocalPosition'])"
   ]
  },
  {
   "cell_type": "markdown",
   "id": "c4b3443f-1a6b-4350-b3a8-afd0bc7d3194",
   "metadata": {},
   "source": [
    "# Preprocessing the Data "
   ]
  },
  {
   "cell_type": "code",
   "execution_count": 2,
   "id": "c586a81b-9fde-46aa-b3b9-183aab5e1f10",
   "metadata": {},
   "outputs": [
    {
     "name": "stdout",
     "output_type": "stream",
     "text": [
      "BREAK\n",
      "BREAK\n",
      "BREAK\n",
      "sku info data 1\n",
      "X_train shape: (3, 9)\n",
      "y_train shape: (3, 4)\n"
     ]
    }
   ],
   "source": [
    "# Initialize lists to store X_train and y_train\n",
    "X_train = []\n",
    "y_train = []\n",
    "\n",
    "class_name = [\"SKU_1L\",\"SKU_4L\",\"SKU_10L_DTS\",\"SKU_10L_DTS\", \"SKU_20L_DTS\", \"SKU_20L_NDTS\"]\n",
    "folder_path = 'Json'\n",
    "\n",
    "# List all JSON files in the folder\n",
    "json_files = [f for f in os.listdir(folder_path) if f.endswith('.json')]\n",
    "\n",
    "# Process each JSON file\n",
    "for json_file in json_files:\n",
    "    file_path = os.path.join(folder_path, json_file)\n",
    "\n",
    "    # Read and parse JSON file\n",
    "    with open(file_path, 'r') as file:\n",
    "        parsed_data = json.load(file)\n",
    "\n",
    "    # Process the parsed data (extract required information)\n",
    "    truck_dimension = {item['key']: int(item['value']) for item in parsed_data['truckDimension']}\n",
    "    total_used_skus = {item['skuName']: int(item['totalUsedSkusCount']) for item in parsed_data['totalUsedSkus']}\n",
    "    skus_info_data = []\n",
    "    temp=[]\n",
    "    print(\"BREAK\")\n",
    "    for item in parsed_data['skusInfoData']:\n",
    "        sku_info = {\n",
    "            'skuName': item['skuName'],\n",
    "            'skuLocalPosition': {pos['key']: float(pos['value']) for pos in item['skuLocalPosition']}\n",
    "            # 'skuCoordinates': {coord['key']: float(coord['value']) for coord in item['skuCoordinates']}\n",
    "        }\n",
    "        temp.append(sku_info)\n",
    "   \n",
    "    #skus_info_data.append(sku_info)\n",
    "    skus_info_data.append(sku_info)\n",
    "        \n",
    "  \n",
    "    # Create X_train entry\n",
    "    X_train.append([truck_dimension['Length'], \n",
    "                    truck_dimension['Width'], \n",
    "                    truck_dimension['Height'], \n",
    "                    total_used_skus['SKU_1L'],\n",
    "                    total_used_skus['SKU_4L'],\n",
    "                    total_used_skus['SKU_10L_DTS'],\n",
    "                    total_used_skus['SKU_10L_NDTS'],\n",
    "                    total_used_skus['SKU_20L_DTS'],\n",
    "                    total_used_skus['SKU_20L_NDTS']\n",
    "                   ])\n",
    "\n",
    "_train = []\n",
    "\n",
    "print(f\"sku info data {len(skus_info_data)}\")\n",
    "# Process each JSON file\n",
    "for json_file in json_files:\n",
    "    # Existing code...\n",
    "\n",
    "    # Create y_train entries\n",
    "    for sku_info in skus_info_data:\n",
    "        y_train.append([sku_info['skuName'],\n",
    "                        sku_info['skuLocalPosition']['x'],\n",
    "                        sku_info['skuLocalPosition']['y'],\n",
    "                        sku_info['skuLocalPosition']['z']])\n",
    "\n",
    "# Convert lists to numpy arrays\n",
    "X_train = np.array(X_train)\n",
    "y_train = np.array(y_train)\n",
    "\n",
    "# Print the shapes of X_train and y_train\n",
    "print(\"X_train shape:\", X_train.shape)\n",
    "print(\"y_train shape:\", y_train.shape)\n"
   ]
  },
  {
   "cell_type": "code",
   "execution_count": 10,
   "id": "d607891b-5f6c-4814-a1a8-440528713991",
   "metadata": {},
   "outputs": [
    {
     "data": {
      "text/plain": [
       "array([[ 70,  33,  20, 297, 328, 120,   0, 500, 200],\n",
       "       [ 80,  32,  20, 792, 896,   0,   0,   0,   0],\n",
       "       [ 70,  30,  20,   0,   0,   0,   0, 198,  99],\n",
       "       [ 70,  30,  20, 296, 329,   0,   0, 500, 130],\n",
       "       [ 70,  24,  20, 162,  90, 161, 120,  45, 200],\n",
       "       [ 70,  30,  20,   0,   0,  99, 190,   0,  99],\n",
       "       [ 70,  24,  20,  96,  96,  98, 216, 100,  96],\n",
       "       [ 70,  33,  20, 198, 200, 200,  44, 200, 200],\n",
       "       [ 80,  32,  20,   0,   0,   0,   0, 300, 950],\n",
       "       [ 80,  32,  20, 792, 896,   0,   0,   0,   0],\n",
       "       [ 80,  32,  20,   0,   0,   0, 913,   0,   0],\n",
       "       [ 70,  24,  20, 144,  96,   0,   0, 567, 133],\n",
       "       [ 70,  33,  20, 297, 200, 200,  44, 500, 200],\n",
       "       [ 80,  32,  20, 448, 600,   0,   0,   0,   0],\n",
       "       [ 70,  24,  20, 450, 498,   0,   0, 200,  45],\n",
       "       [ 70,  25,  20, 300, 330,   0,   0, 480,   0],\n",
       "       [ 70,  24,  20, 144,  96, 196, 216, 200, 199],\n",
       "       [ 70,  33,  20, 162,  96, 200,  44, 500, 200],\n",
       "       [ 80,  32,  20, 152, 200, 192, 220, 200, 200],\n",
       "       [ 70,  32,  20, 200, 200, 192, 220, 200, 200]])"
      ]
     },
     "execution_count": 10,
     "metadata": {},
     "output_type": "execute_result"
    }
   ],
   "source": [
    "X_train\n"
   ]
  },
  {
   "cell_type": "code",
   "execution_count": 11,
   "id": "4c531bb8-af2e-4ffa-9b74-0c64826a4998",
   "metadata": {},
   "outputs": [
    {
     "data": {
      "text/plain": [
       "array(['SKU_4L', '0.0', '0.0', ..., '65.64999', '13.14', '25.41'],\n",
       "      dtype='<U32')"
      ]
     },
     "execution_count": 11,
     "metadata": {},
     "output_type": "execute_result"
    }
   ],
   "source": [
    "y_train"
   ]
  },
  {
   "cell_type": "markdown",
   "id": "10564fae-0dd8-47a1-9649-79f6f4e5d905",
   "metadata": {},
   "source": [
    "## Final Preprocessing"
   ]
  },
  {
   "cell_type": "code",
   "execution_count": 4,
   "id": "528f08c6-66c2-41f9-9545-c6d5dc5b228b",
   "metadata": {},
   "outputs": [
    {
     "name": "stdout",
     "output_type": "stream",
     "text": [
      "{'SKU_1L': 0, 'SKU_4L': 1, 'SKU_10L_DTS': 2, 'SKU_10L_NDTS': 3, 'SKU_20L_DTS': 4, 'SKU_20L_NDTS': 5}\n",
      "sku info data 3\n",
      "Shape of y_train: (3, 3606)\n",
      "X_train shape: (3, 9)\n"
     ]
    }
   ],
   "source": [
    "X_train = []\n",
    "y_train = []\n",
    "\n",
    "class_name = [\"SKU_1L\",\"SKU_4L\",\"SKU_10L_DTS\",\"SKU_10L_NDTS\", \"SKU_20L_DTS\", \"SKU_20L_NDTS\"]\n",
    "# Create a mapping dictionary for one-hot encoding\n",
    "class_mapping = {class_name[i]: i for i in range(len(class_name))}\n",
    "print(class_mapping)\n",
    "# List to store one-hot encoded outputs\n",
    "one_hot_encoded = []\n",
    "\n",
    "folder_path = 'Json'\n",
    "\n",
    "# List all JSON files in the folder\n",
    "json_files = [f for f in os.listdir(folder_path) if f.endswith('.json')]\n",
    "skus_info_data = []\n",
    "# Process each JSON file\n",
    "for json_file in json_files:\n",
    "    file_path = os.path.join(folder_path, json_file)\n",
    "\n",
    "    # Read and parse JSON file\n",
    "    with open(file_path, 'r') as file:\n",
    "        parsed_data = json.load(file)\n",
    "\n",
    "    # Process the parsed data (extract required information)\n",
    "    truck_dimension = {item['key']: int(item['value']) for item in parsed_data['truckDimension']}\n",
    "    total_used_skus = {item['skuName']: int(item['totalUsedSkusCount']) for item in parsed_data['totalUsedSkus']}\n",
    "    \n",
    "    temp=[]\n",
    "   \n",
    "    for item in parsed_data['skusInfoData']:\n",
    "        sku_name = item['skuName']\n",
    "        skuLocalPosition = {pos['key']: float(pos['value']) for pos in item['skuLocalPosition']}\n",
    "        \n",
    "        one_hot = [0] * len(class_name)\n",
    "        if sku_name in class_mapping:\n",
    "            one_hot[class_mapping[sku_name]] = 1\n",
    "        one_hot_encoded.append(one_hot)\n",
    "        # print(one_hot)\n",
    "        # print(f\"x: {skuLocalPosition['x']}, y: {skuLocalPosition['y']}, z: {skuLocalPosition['z']}\")\n",
    "        sku_info = [one_hot,[skuLocalPosition['x'],skuLocalPosition['y'],skuLocalPosition['z']]]\n",
    "        temp.append(sku_info)\n",
    "    skus_info_data.append(temp)\n",
    "        \n",
    "    # Create X_train entry\n",
    "    X_train.append([truck_dimension['Length'], \n",
    "                    truck_dimension['Width'], \n",
    "                    truck_dimension['Height'], \n",
    "                    total_used_skus['SKU_1L'],\n",
    "                    total_used_skus['SKU_4L'],\n",
    "                    total_used_skus['SKU_10L_DTS'],\n",
    "                    total_used_skus['SKU_10L_NDTS'],\n",
    "                    total_used_skus['SKU_20L_DTS'],\n",
    "                    total_used_skus['SKU_20L_NDTS']\n",
    "                   ])\n",
    "\n",
    "\n",
    "\n",
    "print(f\"sku info data {len(skus_info_data)}\")\n",
    "# Initialize an empty list to store y_train\n",
    "y_train = []\n",
    "\n",
    "# Iterate over skus_info_data\n",
    "for item_list in skus_info_data:\n",
    "    positions = []\n",
    "\n",
    "    # Iterate over each item in the list\n",
    "    for item in item_list:\n",
    "        # Extract the position values and append to positions\n",
    "        positions.extend(item[1])  # item[1] contains the position [x, y, z]\n",
    "\n",
    "    # Append the positions to y_train\n",
    "    y_train.append(positions)\n",
    "\n",
    "max_positions_length = max(len(positions) for positions in y_train)\n",
    "\n",
    "# Pad positions to ensure uniform length\n",
    "for positions in y_train:\n",
    "    while len(positions) < max_positions_length:\n",
    "         positions.append(0)  #padding the positions\n",
    "\n",
    "# Convert y_train to a numpy array\n",
    "y_train = np.array(y_train)\n",
    "X_train = np.array(X_train)\n",
    "# Print the shape of y_train\n",
    "print(\"Shape of y_train:\", y_train.shape)\n",
    "print(\"X_train shape:\", X_train.shape)\n",
    "\n"
   ]
  },
  {
   "cell_type": "code",
   "execution_count": null,
   "id": "3043bdd8-05b5-466a-ab90-0dc2eb944b18",
   "metadata": {},
   "outputs": [],
   "source": []
  }
 ],
 "metadata": {
  "kernelspec": {
   "display_name": "Python 3 (ipykernel)",
   "language": "python",
   "name": "python3"
  },
  "language_info": {
   "codemirror_mode": {
    "name": "ipython",
    "version": 3
   },
   "file_extension": ".py",
   "mimetype": "text/x-python",
   "name": "python",
   "nbconvert_exporter": "python",
   "pygments_lexer": "ipython3",
   "version": "3.11.8"
  }
 },
 "nbformat": 4,
 "nbformat_minor": 5
}
